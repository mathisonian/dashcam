{
 "cells": [
  {
   "cell_type": "code",
   "execution_count": 1,
   "metadata": {
    "collapsed": true
   },
   "outputs": [],
   "source": [
    "import pandas as pd\n",
    "import numpy as np\n",
    "from altair import Chart, load_dataset"
   ]
  },
  {
   "cell_type": "code",
   "execution_count": 2,
   "metadata": {
    "collapsed": true
   },
   "outputs": [],
   "source": [
    "csv_path = \"../data/consumer-complaints.csv\"\n",
    "csv_path_out = \"../data/consumer-complaints-formatted.csv\""
   ]
  },
  {
   "cell_type": "code",
   "execution_count": 3,
   "metadata": {
    "collapsed": true
   },
   "outputs": [],
   "source": [
    "complaints = pd.read_csv(csv_path, parse_dates=[0], infer_datetime_format=True, low_memory=False)"
   ]
  },
  {
   "cell_type": "code",
   "execution_count": 11,
   "metadata": {
    "collapsed": false
   },
   "outputs": [],
   "source": [
    "complaints[complaints['ZIP code'].notnull()]['ZIP code'].value_counts().to_csv('vals')"
   ]
  },
  {
   "cell_type": "code",
   "execution_count": 13,
   "metadata": {
    "collapsed": false
   },
   "outputs": [
    {
     "data": {
      "text/plain": [
       "Company has responded to the consumer and the CFPB and chooses not to provide a public response                            80793\n",
       "Company chooses not to provide a public response                                                                           52476\n",
       "Company believes it acted appropriately as authorized by contract or law                                                   30745\n",
       "Company believes the complaint is the result of a misunderstanding                                                          2734\n",
       "Company disputes the facts presented in the complaint                                                                       2557\n",
       "Company believes complaint caused principally by actions of third party outside the control or direction of the company     2361\n",
       "Company believes complaint is the result of an isolated error                                                               2106\n",
       "Company can't verify or dispute the facts in the complaint                                                                  1457\n",
       "Company believes complaint represents an opportunity for improvement to better serve consumers                               955\n",
       "Company believes complaint relates to a discontinued policy or procedure                                                      39\n",
       "Name: Company public response, dtype: int64"
      ]
     },
     "execution_count": 13,
     "metadata": {},
     "output_type": "execute_result"
    }
   ],
   "source": [
    "complaints['Company public response'].value_counts()"
   ]
  },
  {
   "cell_type": "code",
   "execution_count": null,
   "metadata": {
    "collapsed": true
   },
   "outputs": [],
   "source": []
  }
 ],
 "metadata": {
  "kernelspec": {
   "display_name": "Python 2",
   "language": "python",
   "name": "python2"
  },
  "language_info": {
   "codemirror_mode": {
    "name": "ipython",
    "version": 2
   },
   "file_extension": ".py",
   "mimetype": "text/x-python",
   "name": "python",
   "nbconvert_exporter": "python",
   "pygments_lexer": "ipython2",
   "version": "2.7.13"
  }
 },
 "nbformat": 4,
 "nbformat_minor": 2
}
