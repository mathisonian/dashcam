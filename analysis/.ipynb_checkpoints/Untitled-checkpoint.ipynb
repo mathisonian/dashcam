{
 "cells": [
  {
   "cell_type": "code",
   "execution_count": 2,
   "metadata": {
    "collapsed": false
   },
   "outputs": [],
   "source": [
    "import pandas as pd\n",
    "import numpy as np\n",
    "from altair import Chart, load_dataset"
   ]
  },
  {
   "cell_type": "code",
   "execution_count": 17,
   "metadata": {
    "collapsed": true
   },
   "outputs": [],
   "source": [
    "csv_path = \"../data/consumer-complaints.csv\""
   ]
  },
  {
   "cell_type": "code",
   "execution_count": 18,
   "metadata": {
    "collapsed": false
   },
   "outputs": [],
   "source": [
    "complaints = pd.read_csv(csv_path, parse_dates=[0], infer_datetime_format=True, low_memory=False)"
   ]
  },
  {
   "cell_type": "code",
   "execution_count": 20,
   "metadata": {
    "collapsed": false
   },
   "outputs": [
    {
     "data": {
      "text/html": [
       "<div>\n",
       "<table border=\"1\" class=\"dataframe\">\n",
       "  <thead>\n",
       "    <tr style=\"text-align: right;\">\n",
       "      <th></th>\n",
       "      <th>Date received</th>\n",
       "      <th>Product</th>\n",
       "      <th>Sub-product</th>\n",
       "      <th>Issue</th>\n",
       "      <th>Sub-issue</th>\n",
       "      <th>Consumer complaint narrative</th>\n",
       "      <th>Company public response</th>\n",
       "      <th>Company</th>\n",
       "      <th>State</th>\n",
       "      <th>ZIP code</th>\n",
       "      <th>Tags</th>\n",
       "      <th>Consumer consent provided?</th>\n",
       "      <th>Submitted via</th>\n",
       "      <th>Date sent to company</th>\n",
       "      <th>Company response to consumer</th>\n",
       "      <th>Timely response?</th>\n",
       "      <th>Consumer disputed?</th>\n",
       "      <th>Complaint ID</th>\n",
       "    </tr>\n",
       "  </thead>\n",
       "  <tbody>\n",
       "    <tr>\n",
       "      <th>0</th>\n",
       "      <td>2013-07-29</td>\n",
       "      <td>Consumer Loan</td>\n",
       "      <td>Vehicle loan</td>\n",
       "      <td>Managing the loan or lease</td>\n",
       "      <td>NaN</td>\n",
       "      <td>NaN</td>\n",
       "      <td>NaN</td>\n",
       "      <td>Wells Fargo &amp; Company</td>\n",
       "      <td>VA</td>\n",
       "      <td>24540</td>\n",
       "      <td>NaN</td>\n",
       "      <td>NaN</td>\n",
       "      <td>Phone</td>\n",
       "      <td>07/30/2013</td>\n",
       "      <td>Closed with explanation</td>\n",
       "      <td>Yes</td>\n",
       "      <td>No</td>\n",
       "      <td>468882</td>\n",
       "    </tr>\n",
       "    <tr>\n",
       "      <th>1</th>\n",
       "      <td>2013-07-29</td>\n",
       "      <td>Bank account or service</td>\n",
       "      <td>Checking account</td>\n",
       "      <td>Using a debit or ATM card</td>\n",
       "      <td>NaN</td>\n",
       "      <td>NaN</td>\n",
       "      <td>NaN</td>\n",
       "      <td>Wells Fargo &amp; Company</td>\n",
       "      <td>CA</td>\n",
       "      <td>95992</td>\n",
       "      <td>Older American</td>\n",
       "      <td>NaN</td>\n",
       "      <td>Web</td>\n",
       "      <td>07/31/2013</td>\n",
       "      <td>Closed with explanation</td>\n",
       "      <td>Yes</td>\n",
       "      <td>No</td>\n",
       "      <td>468889</td>\n",
       "    </tr>\n",
       "    <tr>\n",
       "      <th>2</th>\n",
       "      <td>2013-07-29</td>\n",
       "      <td>Bank account or service</td>\n",
       "      <td>Checking account</td>\n",
       "      <td>Account opening, closing, or management</td>\n",
       "      <td>NaN</td>\n",
       "      <td>NaN</td>\n",
       "      <td>NaN</td>\n",
       "      <td>Santander Bank US</td>\n",
       "      <td>NY</td>\n",
       "      <td>10065</td>\n",
       "      <td>NaN</td>\n",
       "      <td>NaN</td>\n",
       "      <td>Fax</td>\n",
       "      <td>07/31/2013</td>\n",
       "      <td>Closed</td>\n",
       "      <td>Yes</td>\n",
       "      <td>No</td>\n",
       "      <td>468879</td>\n",
       "    </tr>\n",
       "    <tr>\n",
       "      <th>3</th>\n",
       "      <td>2013-07-29</td>\n",
       "      <td>Bank account or service</td>\n",
       "      <td>Checking account</td>\n",
       "      <td>Deposits and withdrawals</td>\n",
       "      <td>NaN</td>\n",
       "      <td>NaN</td>\n",
       "      <td>NaN</td>\n",
       "      <td>Wells Fargo &amp; Company</td>\n",
       "      <td>GA</td>\n",
       "      <td>30084</td>\n",
       "      <td>NaN</td>\n",
       "      <td>NaN</td>\n",
       "      <td>Web</td>\n",
       "      <td>07/30/2013</td>\n",
       "      <td>Closed with explanation</td>\n",
       "      <td>Yes</td>\n",
       "      <td>No</td>\n",
       "      <td>468949</td>\n",
       "    </tr>\n",
       "    <tr>\n",
       "      <th>4</th>\n",
       "      <td>2013-07-29</td>\n",
       "      <td>Mortgage</td>\n",
       "      <td>Conventional fixed mortgage</td>\n",
       "      <td>Loan servicing, payments, escrow account</td>\n",
       "      <td>NaN</td>\n",
       "      <td>NaN</td>\n",
       "      <td>NaN</td>\n",
       "      <td>Franklin Credit Management</td>\n",
       "      <td>CT</td>\n",
       "      <td>06106</td>\n",
       "      <td>NaN</td>\n",
       "      <td>NaN</td>\n",
       "      <td>Web</td>\n",
       "      <td>07/30/2013</td>\n",
       "      <td>Closed with explanation</td>\n",
       "      <td>Yes</td>\n",
       "      <td>No</td>\n",
       "      <td>475823</td>\n",
       "    </tr>\n",
       "  </tbody>\n",
       "</table>\n",
       "</div>"
      ],
      "text/plain": [
       "  Date received                  Product                  Sub-product  \\\n",
       "0    2013-07-29            Consumer Loan                 Vehicle loan   \n",
       "1    2013-07-29  Bank account or service             Checking account   \n",
       "2    2013-07-29  Bank account or service             Checking account   \n",
       "3    2013-07-29  Bank account or service             Checking account   \n",
       "4    2013-07-29                 Mortgage  Conventional fixed mortgage   \n",
       "\n",
       "                                      Issue Sub-issue  \\\n",
       "0                Managing the loan or lease       NaN   \n",
       "1                 Using a debit or ATM card       NaN   \n",
       "2   Account opening, closing, or management       NaN   \n",
       "3                  Deposits and withdrawals       NaN   \n",
       "4  Loan servicing, payments, escrow account       NaN   \n",
       "\n",
       "  Consumer complaint narrative Company public response  \\\n",
       "0                          NaN                     NaN   \n",
       "1                          NaN                     NaN   \n",
       "2                          NaN                     NaN   \n",
       "3                          NaN                     NaN   \n",
       "4                          NaN                     NaN   \n",
       "\n",
       "                      Company State ZIP code            Tags  \\\n",
       "0       Wells Fargo & Company    VA    24540             NaN   \n",
       "1       Wells Fargo & Company    CA    95992  Older American   \n",
       "2           Santander Bank US    NY    10065             NaN   \n",
       "3       Wells Fargo & Company    GA    30084             NaN   \n",
       "4  Franklin Credit Management    CT    06106             NaN   \n",
       "\n",
       "  Consumer consent provided? Submitted via Date sent to company  \\\n",
       "0                        NaN         Phone           07/30/2013   \n",
       "1                        NaN           Web           07/31/2013   \n",
       "2                        NaN           Fax           07/31/2013   \n",
       "3                        NaN           Web           07/30/2013   \n",
       "4                        NaN           Web           07/30/2013   \n",
       "\n",
       "  Company response to consumer Timely response? Consumer disputed?  \\\n",
       "0      Closed with explanation              Yes                 No   \n",
       "1      Closed with explanation              Yes                 No   \n",
       "2                       Closed              Yes                 No   \n",
       "3      Closed with explanation              Yes                 No   \n",
       "4      Closed with explanation              Yes                 No   \n",
       "\n",
       "   Complaint ID  \n",
       "0        468882  \n",
       "1        468889  \n",
       "2        468879  \n",
       "3        468949  \n",
       "4        475823  "
      ]
     },
     "execution_count": 20,
     "metadata": {},
     "output_type": "execute_result"
    }
   ],
   "source": [
    "complaints.head()"
   ]
  },
  {
   "cell_type": "code",
   "execution_count": 21,
   "metadata": {
    "collapsed": false
   },
   "outputs": [
    {
     "data": {
      "text/plain": [
       "Company has responded to the consumer and the CFPB and chooses not to provide a public response                            80793\n",
       "Company chooses not to provide a public response                                                                           52476\n",
       "Company believes it acted appropriately as authorized by contract or law                                                   30745\n",
       "Company believes the complaint is the result of a misunderstanding                                                          2734\n",
       "Company disputes the facts presented in the complaint                                                                       2557\n",
       "Company believes complaint caused principally by actions of third party outside the control or direction of the company     2361\n",
       "Company believes complaint is the result of an isolated error                                                               2106\n",
       "Company can't verify or dispute the facts in the complaint                                                                  1457\n",
       "Company believes complaint represents an opportunity for improvement to better serve consumers                               955\n",
       "Company believes complaint relates to a discontinued policy or procedure                                                      39\n",
       "Name: Company public response, dtype: int64"
      ]
     },
     "execution_count": 21,
     "metadata": {},
     "output_type": "execute_result"
    }
   ],
   "source": [
    "complaints[complaints['Company public response'].notnull()]['Company public response'].value_counts()"
   ]
  },
  {
   "cell_type": "code",
   "execution_count": 22,
   "metadata": {
    "collapsed": false
   },
   "outputs": [
    {
     "data": {
      "text/plain": [
       "Older American                   59587\n",
       "Servicemember                    35534\n",
       "Older American, Servicemember     8287\n",
       "Name: Tags, dtype: int64"
      ]
     },
     "execution_count": 22,
     "metadata": {},
     "output_type": "execute_result"
    }
   ],
   "source": [
    "complaints['Tags'].value_counts()"
   ]
  },
  {
   "cell_type": "code",
   "execution_count": 23,
   "metadata": {
    "collapsed": false
   },
   "outputs": [
    {
     "data": {
      "text/plain": [
       "Closed with explanation            546073\n",
       "Closed with non-monetary relief     91088\n",
       "Closed with monetary relief         49181\n",
       "Closed without relief               17863\n",
       "Closed                              16897\n",
       "Closed with relief                   5298\n",
       "In progress                          4050\n",
       "Untimely response                    4038\n",
       "Name: Company response to consumer, dtype: int64"
      ]
     },
     "execution_count": 23,
     "metadata": {},
     "output_type": "execute_result"
    }
   ],
   "source": [
    "complaints['Company response to consumer'].value_counts()"
   ]
  },
  {
   "cell_type": "code",
   "execution_count": 19,
   "metadata": {
    "collapsed": false
   },
   "outputs": [
    {
     "data": {
      "text/plain": [
       "734488"
      ]
     },
     "execution_count": 19,
     "metadata": {},
     "output_type": "execute_result"
    }
   ],
   "source": [
    "len(complaints)"
   ]
  },
  {
   "cell_type": "code",
   "execution_count": 24,
   "metadata": {
    "collapsed": false
   },
   "outputs": [
    {
     "data": {
      "text/plain": [
       "Bank of America                             64563\n",
       "Wells Fargo & Company                       52148\n",
       "Equifax                                     46034\n",
       "Experian                                    43345\n",
       "JPMorgan Chase & Co.                        41463\n",
       "TransUnion Intermediate Holdings, Inc.      37610\n",
       "Citibank                                    33612\n",
       "Ocwen                                       23720\n",
       "Capital One                                 19526\n",
       "Navient Solutions, LLC.                     15936\n",
       "Nationstar Mortgage                         15805\n",
       "Synchrony Financial                         12401\n",
       "U.S. Bancorp                                11969\n",
       "Ditech Financial LLC                        11149\n",
       "PNC Bank N.A.                                8413\n",
       "Amex                                         7979\n",
       "Encore Capital Group                         7572\n",
       "HSBC North America Holdings Inc.             7052\n",
       "Discover                                     6183\n",
       "SunTrust Banks, Inc.                         6005\n",
       "TD Bank US Holding Company                   5721\n",
       "Select Portfolio Servicing, Inc              5597\n",
       "Portfolio Recovery Associates, Inc.          4786\n",
       "Citizens Financial Group, Inc.               3897\n",
       "Barclays PLC                                 3835\n",
       "ERC                                          3724\n",
       "AES/PHEAA                                    3607\n",
       "Seterus, Inc.                                3590\n",
       "Fifth Third Financial Corporation            3564\n",
       "BB&T Financial                               3228\n",
       "                                            ...  \n",
       "Southwest Finance, L.L.C.                       1\n",
       "National Integrity LLC                          1\n",
       "Abrahamsen Ratchford, P.C                       1\n",
       "Vanderwey Investments, LLC                      1\n",
       "New World Collection, Inc.                      1\n",
       "Leopold & Associates, PLLC                      1\n",
       "Professional Credit Analysts of MN, Inc.        1\n",
       "Rivertown Credit LLC                            1\n",
       "TCN Inc                                         1\n",
       "Ideal Lending Solutions, Inc.                   1\n",
       "Vinson Mortgage Services, Inc.                  1\n",
       "Aspen Home Mortgage Group                       1\n",
       "Cheryl A. Warzynski PLLC                        1\n",
       "New Horizons Finance Company, Inc               1\n",
       "FCN Catalogue & Equipment, Inc.                 1\n",
       "Taylor Pigue Marchetti & Blair, PLLC            1\n",
       "March Motors, Inc.                              1\n",
       "Mortgages Unlimited Inc                         1\n",
       "Sentry Abstract Co.                             1\n",
       "Hello Digit, Inc                                1\n",
       "Jefferson Title Corporation                     1\n",
       "The Hamilton Law Association                    1\n",
       "Vericheck                                       1\n",
       "Credit Wise Recovery Solution LLC               1\n",
       "Willow Bend Mortgage Company, LLC               1\n",
       "Warlick, Stebbins, Murray & Chew, LLP           1\n",
       "Nations Holding Company                         1\n",
       "Krawczyk, Duginski & Rohr, S.C.                 1\n",
       "The Law Offices of Richard W. Krieg, LLC        1\n",
       "Schiller & Adam, P.A.                           1\n",
       "Name: Company, dtype: int64"
      ]
     },
     "execution_count": 24,
     "metadata": {},
     "output_type": "execute_result"
    }
   ],
   "source": [
    "complaints['Company'].value_counts()"
   ]
  },
  {
   "cell_type": "code",
   "execution_count": 25,
   "metadata": {
    "collapsed": true
   },
   "outputs": [],
   "source": [
    "boa = complaints[complaints['Company'] == 'Bank of America']"
   ]
  },
  {
   "cell_type": "code",
   "execution_count": 32,
   "metadata": {
    "collapsed": false
   },
   "outputs": [
    {
     "data": {
      "text/plain": [
       "Product                  Sub-product                           \n",
       "Bank account or service  (CD) Certificate of deposit                 370\n",
       "                         Cashing a check without an account          118\n",
       "                         Checking account                           9495\n",
       "                         Other bank product/service                 2641\n",
       "                         Savings account                             749\n",
       "Consumer Loan            Installment loan                            193\n",
       "                         Pawn loan                                     5\n",
       "                         Personal line of credit                     164\n",
       "                         Title loan                                    7\n",
       "                         Vehicle lease                                 5\n",
       "                         Vehicle loan                                280\n",
       "Debt collection          Auto                                         16\n",
       "                         Credit card                                 690\n",
       "                         Federal student loan                          5\n",
       "                         I do not know                               155\n",
       "                         Medical                                       1\n",
       "                         Mortgage                                    493\n",
       "                         Non-federal student loan                     10\n",
       "                         Other (i.e. phone, health club, etc.)       225\n",
       "                         Payday loan                                   3\n",
       "Money transfers          Domestic (US) money transfer                133\n",
       "                         International money transfer                124\n",
       "Mortgage                 Conventional adjustable mortgage (ARM)     4121\n",
       "                         Conventional fixed mortgage                9937\n",
       "                         FHA mortgage                               4577\n",
       "                         Home equity loan or line of credit         2103\n",
       "                         Other mortgage                            18028\n",
       "                         Reverse mortgage                            102\n",
       "                         Second mortgage                             148\n",
       "                         VA mortgage                                 513\n",
       "Other financial service  Check cashing                                31\n",
       "                         Debt settlement                               3\n",
       "                         Foreign currency exchange                    10\n",
       "                         Money order                                   2\n",
       "                         Refund anticipation check                     9\n",
       "                         Traveler’s/Cashier’s checks                  11\n",
       "Payday loan              Payday loan                                  14\n",
       "Prepaid card             General purpose card                         16\n",
       "                         Gift or merchant card                         5\n",
       "                         Government benefit payment card              19\n",
       "                         ID prepaid card                               1\n",
       "                         Mobile wallet                                 1\n",
       "                         Other special purpose card                    6\n",
       "                         Payroll card                                  4\n",
       "Student loan             Federal student loan servicing                9\n",
       "                         Non-federal student loan                     89\n",
       "dtype: int64"
      ]
     },
     "execution_count": 32,
     "metadata": {},
     "output_type": "execute_result"
    }
   ],
   "source": [
    "boa.groupby(['Product', 'Sub-product']).size()"
   ]
  },
  {
   "cell_type": "code",
   "execution_count": 33,
   "metadata": {
    "collapsed": false
   },
   "outputs": [
    {
     "data": {
      "text/plain": [
       "Issue                                     Sub-issue                               \n",
       "Applied for loan/did not receive money    Applied for loan/did not receive money        1\n",
       "Can't contact lender                      Can't contact lender                          4\n",
       "Can't repay my loan                       Can't decrease my monthly payments            5\n",
       "                                          Can't get flexible payment options            7\n",
       "                                          Can't temporarily postpone payments           4\n",
       "Charged fees or interest I didn't expect  Charged fees or interest I didn't expect      4\n",
       "Communication tactics                     Called after sent written cease of comm      17\n",
       "                                          Called outside of 8am-9pm                     9\n",
       "                                          Frequent or repeated calls                  128\n",
       "                                          Threatened to take legal action              48\n",
       "                                          Used obscene/profane/abusive language         4\n",
       "Cont'd attempts collect debt not owed     Debt is not mine                            266\n",
       "                                          Debt resulted from identity theft            50\n",
       "                                          Debt was discharged in bankruptcy            76\n",
       "                                          Debt was paid                               173\n",
       "Credit monitoring or identity protection  Problem cancelling or closing account         2\n",
       "Credit reporting company's investigation  Investigation took too long                   1\n",
       "Dealing with my lender or servicer        Don't agree with fees charged                 2\n",
       "                                          Having problems with customer service         5\n",
       "                                          Keep getting calls about my loan              1\n",
       "                                          Need information about my balance/terms       8\n",
       "                                          Received bad information about my loan       12\n",
       "                                          Trouble with how payments are handled        10\n",
       "Disclosure verification of debt           Not disclosed as an attempt to collect       18\n",
       "                                          Not given enough info to verify debt        390\n",
       "                                          Right to dispute notice not received         51\n",
       "False statements or representation        Attempted to collect wrong amount            93\n",
       "                                          Impersonated an attorney or official         12\n",
       "                                          Indicated committed crime not paying         11\n",
       "                                          Indicated shouldn't respond to lawsuit        1\n",
       "Getting a loan                            Can't qualify for a loan                      1\n",
       "                                          Getting a loan                                3\n",
       "                                          Qualify for a better loan than offered        1\n",
       "Improper contact or sharing of info       Contacted employer after asked not to        16\n",
       "                                          Contacted me after I asked not to            26\n",
       "                                          Contacted me instead of my attorney           4\n",
       "                                          Talked to a third party about my debt        54\n",
       "Improper use of my credit report          Report improperly shared by CRC               8\n",
       "Incorrect information on credit report    Account status                               61\n",
       "                                          Account terms                                 5\n",
       "                                          Information is not mine                      15\n",
       "                                          Public record                                 1\n",
       "                                          Reinserted previously deleted info            2\n",
       "Problems when you are unable to pay       Problems when you are unable to pay          13\n",
       "Received a loan I didn't apply for        Received a loan I didn't apply for            5\n",
       "Repaying your loan                        Repaying your loan                           26\n",
       "Taking/threatening an illegal action      Attempted to/Collected exempt funds          12\n",
       "                                          Seized/Attempted to seize property           69\n",
       "                                          Sued w/o proper notification of suit         17\n",
       "                                          Sued where didn't live/sign for debt          4\n",
       "                                          Threatened arrest/jail if do not pay          9\n",
       "                                          Threatened to sue on too old debt            40\n",
       "dtype: int64"
      ]
     },
     "execution_count": 33,
     "metadata": {},
     "output_type": "execute_result"
    }
   ],
   "source": [
    "boa.groupby(['Issue', 'Sub-issue']).size()"
   ]
  },
  {
   "cell_type": "code",
   "execution_count": 40,
   "metadata": {
    "collapsed": false
   },
   "outputs": [
    {
     "data": {
      "text/plain": [
       "Issue                                     Sub-issue                               \n",
       "Applied for loan/did not receive money    Applied for loan/did not receive money        302\n",
       "Can't contact lender                      Can't contact lender                          963\n",
       "Can't repay my loan                       Can't decrease my monthly payments           3600\n",
       "                                          Can't get flexible payment options           3003\n",
       "                                          Can't temporarily postpone payments          1315\n",
       "Can't stop charges to bank account        Can't stop charges to bank account            482\n",
       "Charged bank acct wrong day or amt        Charged bank acct wrong day or amt            275\n",
       "Charged fees or interest I didn't expect  Charged fees or interest I didn't expect     2345\n",
       "Communication tactics                     Called after sent written cease of comm      1786\n",
       "                                          Called outside of 8am-9pm                     869\n",
       "                                          Frequent or repeated calls                  14071\n",
       "                                          Threatened to take legal action              4517\n",
       "                                          Used obscene/profane/abusive language        1749\n",
       "Cont'd attempts collect debt not owed     Debt is not mine                            34814\n",
       "                                          Debt resulted from identity theft            4562\n",
       "                                          Debt was discharged in bankruptcy            2301\n",
       "                                          Debt was paid                               15690\n",
       "Credit monitoring or identity protection  Account terms and changes                     689\n",
       "                                          Billing dispute                               847\n",
       "                                          Insurance terms                                 4\n",
       "                                          Problem cancelling or closing account         466\n",
       "                                          Problem with fraud alerts                    2002\n",
       "                                          Receiving unwanted marketing/advertising      205\n",
       "Credit reporting company's investigation  Inadequate help over the phone               1608\n",
       "                                          Investigation took too long                  2535\n",
       "                                          No notice of investigation status/result     5946\n",
       "                                          Problem with statement of dispute            5548\n",
       "Dealing with my lender or servicer        Don't agree with fees charged                2380\n",
       "                                          Having problems with customer service        2455\n",
       "                                          Keep getting calls about my loan             1145\n",
       "                                                                                      ...  \n",
       "False statements or representation        Indicated committed crime not paying          967\n",
       "                                          Indicated shouldn't respond to lawsuit        332\n",
       "Getting a loan                            Can't qualify for a loan                      286\n",
       "                                          Getting a loan                                205\n",
       "                                          Qualify for a better loan than offered        148\n",
       "Improper contact or sharing of info       Contacted employer after asked not to        2119\n",
       "                                          Contacted me after I asked not to            2494\n",
       "                                          Contacted me instead of my attorney           237\n",
       "                                          Talked to a third party about my debt        4766\n",
       "Improper use of my credit report          Received marketing offer after opted out      163\n",
       "                                          Report improperly shared by CRC              4903\n",
       "                                          Report shared with employer w/o consent       157\n",
       "Incorrect information on credit report    Account status                              35338\n",
       "                                          Account terms                               10418\n",
       "                                          Information is not mine                     30196\n",
       "                                          Personal information                         7106\n",
       "                                          Public record                                8252\n",
       "                                          Reinserted previously deleted info           5339\n",
       "Payment to acct not credited              Payment to acct not credited                  356\n",
       "Problems when you are unable to pay       Problems when you are unable to pay          1697\n",
       "Received a loan I didn't apply for        Received a loan I didn't apply for            561\n",
       "Repaying your loan                        Repaying your loan                           3820\n",
       "Taking/threatening an illegal action      Attempted to/Collected exempt funds           865\n",
       "                                          Seized/Attempted to seize property           1108\n",
       "                                          Sued w/o proper notification of suit         1334\n",
       "                                          Sued where didn't live/sign for debt          385\n",
       "                                          Threatened arrest/jail if do not pay         2217\n",
       "                                          Threatened to sue on too old debt            2602\n",
       "Unable to get credit report/credit score  Problem getting my free annual report        6282\n",
       "                                          Problem getting report or credit score       4211\n",
       "dtype: int64"
      ]
     },
     "execution_count": 40,
     "metadata": {},
     "output_type": "execute_result"
    }
   ],
   "source": [
    "complaints.groupby(['Issue', 'Sub-issue']).size()"
   ]
  },
  {
   "cell_type": "code",
   "execution_count": 44,
   "metadata": {
    "collapsed": true
   },
   "outputs": [],
   "source": [
    "wrong_debt = complaints[complaints['Sub-issue'] == 'Debt is not mine']\n",
    "paid_debt = complaints[complaints['Sub-issue'] == 'Debt was paid']"
   ]
  },
  {
   "cell_type": "code",
   "execution_count": 43,
   "metadata": {
    "collapsed": false
   },
   "outputs": [
    {
     "data": {
      "text/plain": [
       "Encore Capital Group                               1965\n",
       "ERC                                                1477\n",
       "Portfolio Recovery Associates, Inc.                1158\n",
       "Convergent Resources, Inc.                          774\n",
       "Afni, Inc.                                          577\n",
       "Transworld Systems Inc.                             541\n",
       "Resurgent Capital Services L.P.                     496\n",
       "Diversified Consultants, Inc.                       479\n",
       "Citibank                                            473\n",
       "Expert Global Solutions, Inc.                       463\n",
       "Dynamic Recovery Solutions, LLC                     463\n",
       "Allied Interstate LLC                               434\n",
       "I.C. System, Inc.                                   433\n",
       "Synchrony Financial                                 413\n",
       "EOS Holdings, Inc.                                  409\n",
       "Navient Solutions, LLC.                             403\n",
       "Stellar Recovery Inc.                               380\n",
       "CCS Financial Services, Inc.                        376\n",
       "Commonwealth Financial Systems, Inc.                357\n",
       "Capital One                                         340\n",
       "National Credit Systems,Inc.                        297\n",
       "JPMorgan Chase & Co.                                295\n",
       "The CBE Group, Inc.                                 283\n",
       "Southwest Credit Systems, L.P.                      278\n",
       "Pinnacle Credit Services, LLC                       276\n",
       "Receivables Performance Management LLC              275\n",
       "Bank of America                                     266\n",
       "First National Collection Bureau, Inc.              251\n",
       "The CMI Group, Inc.                                 233\n",
       "Credit Protection Association, L.P.                 216\n",
       "                                                   ... \n",
       "Udren Law Offices, P.C.                               1\n",
       "Lippman & Reed, PLLC                                  1\n",
       "Tri-Counties Accounts Adjustment Bureau               1\n",
       "Superior Adjustment, Inc.                             1\n",
       "Blackwell, Burns & Pratt                              1\n",
       "Century Financial Group                               1\n",
       "Global One Arbitration Inc.                           1\n",
       "Delta Outsource Group, Inc.                           1\n",
       "Consumer Recovery Solutions, LLC                      1\n",
       "Nevada Professional Collections Texas                 1\n",
       "Man-Data Inc.                                         1\n",
       "21st Mortgage Corporation                             1\n",
       "United Credit and Collections Inc.                    1\n",
       "World Omni Financial Corp.                            1\n",
       "Credit Bureau of Jamestown, Inc.                      1\n",
       "J&J Financial Services LLC                            1\n",
       "First Capital Recovery Inc.                           1\n",
       "Douglas, Chancellor, Meyers and Associates, LLC       1\n",
       "Yakima County Credit Service, INC                     1\n",
       "Economic Recovery Consultants, Inc                    1\n",
       "Global Lending Services LLC                           1\n",
       "Brelvis Consulting, LLC                               1\n",
       "S & S Recovery, Inc.                                  1\n",
       "N&S Partners                                          1\n",
       "Brian Kvarfordt                                       1\n",
       "PRO Consulting Services, Inc.                         1\n",
       "Bernhardt and Strawser, P.A.                          1\n",
       "LendingTree, Inc                                      1\n",
       "Jerold Kaplan Law Office, P.C.                        1\n",
       "FirstBank of Puerto Rico                              1\n",
       "Name: Company, dtype: int64"
      ]
     },
     "execution_count": 43,
     "metadata": {},
     "output_type": "execute_result"
    }
   ],
   "source": [
    "wrong_debt['Company'].value_counts()"
   ]
  },
  {
   "cell_type": "code",
   "execution_count": 45,
   "metadata": {
    "collapsed": false
   },
   "outputs": [
    {
     "data": {
      "text/plain": [
       "Encore Capital Group                           653\n",
       "ERC                                            460\n",
       "Portfolio Recovery Associates, Inc.            438\n",
       "Transworld Systems Inc.                        358\n",
       "Citibank                                       291\n",
       "Synchrony Financial                            261\n",
       "Expert Global Solutions, Inc.                  244\n",
       "Diversified Consultants, Inc.                  239\n",
       "Capital One                                    234\n",
       "Afni, Inc.                                     233\n",
       "Convergent Resources, Inc.                     211\n",
       "I.C. System, Inc.                              182\n",
       "JPMorgan Chase & Co.                           174\n",
       "Bank of America                                173\n",
       "Resurgent Capital Services L.P.                169\n",
       "Commonwealth Financial Systems, Inc.           150\n",
       "Southwest Credit Systems, L.P.                 132\n",
       "CCS Financial Services, Inc.                   130\n",
       "Stellar Recovery Inc.                          121\n",
       "Tenet HealthCare Corporation                   118\n",
       "HSBC North America Holdings Inc.               117\n",
       "EOS Holdings, Inc.                             117\n",
       "Receivables Performance Management LLC         115\n",
       "CMRE Financial Services, Inc.                  113\n",
       "Navient Solutions, LLC.                        109\n",
       "Dynamic Recovery Solutions, LLC                107\n",
       "National Credit Systems,Inc.                   106\n",
       "Wells Fargo & Company                          106\n",
       "Alorica Inc.                                   105\n",
       "Allied Interstate LLC                           99\n",
       "                                              ... \n",
       "MicroBilt / PRBC (formerly CL Verify)            1\n",
       "Nagle & Zaller, PC                               1\n",
       "Lefkoff, Rubin, Gleason & Russo, P.C.            1\n",
       "Hood & Stacy, P.A.                               1\n",
       "Certified Services, Inc.                         1\n",
       "R & R Collection Service, Inc.                   1\n",
       "Pollack & Rosen, P.A.                            1\n",
       "Adsen & Associates, LLC                          1\n",
       "Credit & Collection Recovery Services, Inc.      1\n",
       "National Account Services, Inc.                  1\n",
       "Collection Center Inc                            1\n",
       "The Law Offices of Erskine and Fleisher          1\n",
       "MJ Altman Companies, Inc.                        1\n",
       "BOK Financial Corp                               1\n",
       "Harris Beach PLLC                                1\n",
       "Morgan & Pottinger, PSC                          1\n",
       "Precise Financial Group, LLC                     1\n",
       "Robinson & Associates                            1\n",
       "Diverse Financial Enterprises                    1\n",
       "IBERIABANK                                       1\n",
       "TFC Credit Corporation of California             1\n",
       "Worldwide Processing Group, LLC                  1\n",
       "Regional Credit Solutions                        1\n",
       "Bayfield Financial, LLC                          1\n",
       "Money Management International, Inc.             1\n",
       "Curtwright & Klein, LLC                          1\n",
       "Revenue Enterprises, LLC                         1\n",
       "CU Recovery, Inc.                                1\n",
       "BankUnited                                       1\n",
       "FirstBank of Puerto Rico                         1\n",
       "Name: Company, dtype: int64"
      ]
     },
     "execution_count": 45,
     "metadata": {},
     "output_type": "execute_result"
    }
   ],
   "source": [
    "paid_debt['Company'].value_counts()"
   ]
  },
  {
   "cell_type": "code",
   "execution_count": null,
   "metadata": {
    "collapsed": true
   },
   "outputs": [],
   "source": []
  }
 ],
 "metadata": {
  "kernelspec": {
   "display_name": "Python 2",
   "language": "python",
   "name": "python2"
  },
  "language_info": {
   "codemirror_mode": {
    "name": "ipython",
    "version": 2
   },
   "file_extension": ".py",
   "mimetype": "text/x-python",
   "name": "python",
   "nbconvert_exporter": "python",
   "pygments_lexer": "ipython2",
   "version": "2.7.13"
  }
 },
 "nbformat": 4,
 "nbformat_minor": 2
}
